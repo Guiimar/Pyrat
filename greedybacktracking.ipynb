{
  "nbformat": 4,
  "nbformat_minor": 0,
  "metadata": {
    "colab": {
      "name": "greedybacktracking.ipynb",
      "provenance": [],
      "collapsed_sections": []
    },
    "kernelspec": {
      "name": "python3",
      "display_name": "Python 3"
    }
  },
  "cells": [
    {
      "cell_type": "markdown",
      "metadata": {
        "id": "2TuyPXbywCpq"
      },
      "source": [
        "<h1><b><center>How to use this file with PyRat?</center></b></h1>"
      ]
    },
    {
      "cell_type": "markdown",
      "metadata": {
        "id": "vGFn7-8SwIiR"
      },
      "source": [
        "Google Colab provides an efficient environment for writing codes collaboratively with your group. For us, teachers, it allows to come and see your advancement from time to time, and help you solve some bugs if needed.\n",
        "\n",
        "The PyRat software is a complex environment that takes as an input an AI file (as this file). It requires some resources as well as a few Python libraries, so we have installed it on a virtual machine for you.\n",
        "\n",
        "PyRat is a local program, and Google Colab is a distant tool. Therefore, we need to indicate the PyRat software where to get your code! In order to submit your program to PyRat, you should follow the following steps:\n",
        "\n",
        "1.   In this notebook, click on *Share* (top right corner of the navigator). Then, change sharing method to *Anyone with the link*, and copy the sharing link;\n",
        "2.   On the machine where the PyRat software is installed, start a terminal and navigate to your PyRat directory;\n",
        "3.   Run the command `python ./pyrat.py --rat \"<link>\" <options>`, where `<link>` is the share link copied in step 1. (put it between quotes), and `<options>` are other PyRat options you may need."
      ]
    },
    {
      "cell_type": "markdown",
      "metadata": {
        "id": "p9zlfF1iafqy"
      },
      "source": [
        "<h1><b><center>Pre-defined constants</center></b></h1>"
      ]
    },
    {
      "cell_type": "markdown",
      "metadata": {
        "id": "U7btUw_naI-R"
      },
      "source": [
        "A PyRat program should -- at each turn -- decide in which direction to move. This is done in the `turn` function later in this document, which should return one of the following constants:"
      ]
    },
    {
      "cell_type": "code",
      "metadata": {
        "id": "bnoalRWgaGxP"
      },
      "source": [
        "MOVE_DOWN = 'D'\n",
        "MOVE_LEFT = 'L'\n",
        "MOVE_RIGHT = 'R'\n",
        "MOVE_UP = 'U'"
      ],
      "execution_count": null,
      "outputs": []
    },
    {
      "cell_type": "markdown",
      "metadata": {
        "id": "tQF4Icesbar5"
      },
      "source": [
        "<h1><b><center>Your coding area</center></b></h1>"
      ]
    },
    {
      "cell_type": "markdown",
      "metadata": {
        "id": "dcKT5Itcbin1"
      },
      "source": [
        "Please put your functions, imports, constants, etc. between this text and the PyRat functions below. You can add as many code cells as you want, we just ask that you keep things organized (one function per cell, commented, etc.), so that it is easier for the teachers to help you debug your code!"
      ]
    },
    {
      "cell_type": "code",
      "metadata": {
        "id": "ghzFngwacFNa"
      },
      "source": [
        "import random\n",
        "import heapq\n",
        "import math"
      ],
      "execution_count": null,
      "outputs": []
    },
    {
      "cell_type": "code",
      "metadata": {
        "id": "T790_6kTcE9Q"
      },
      "source": [
        ""
      ],
      "execution_count": null,
      "outputs": []
    },
    {
      "cell_type": "code",
      "metadata": {
        "id": "jXNoMpFhcFJu"
      },
      "source": [
        ""
      ],
      "execution_count": null,
      "outputs": []
    },
    {
      "cell_type": "code",
      "metadata": {
        "id": "soOxltZdcFEa"
      },
      "source": [
        "def create_structure():\n",
        "    # Create a priority queue\n",
        "    return []\n",
        "\n",
        "def push_to_structure (structure, element) :\n",
        "    # Add an element to the min-heap\n",
        "    heapq.heappush(structure, element)\n",
        "\n",
        "def pop_from_structure (structure) :\n",
        "    # Extract an element from the min-heap\n",
        "    return heapq.heappop(structure)\n",
        "\n",
        "def traversal (start_vertex, graph) :\n",
        "    # First we create either a LIFO or a FIFO\n",
        "    queuing_structure = create_structure() \n",
        "    # Add the starting vertex with None as parent\n",
        "    push_to_structure(queuing_structure,(0,start_vertex, None))\n",
        "    # Initialize the outputs \n",
        "    explored_vertices = {}\n",
        "    routing_table = {} \n",
        "    # Iterate while some vertices remain\n",
        "    while len(queuing_structure) > 0 :\n",
        "    \n",
        "        # This will return the next vertex to be examined, and the choice of queuing structure will change the resulting order\n",
        "        (distance_to_current_vertex,current_vertex, parent) = pop_from_structure(queuing_structure)\n",
        "    \n",
        "        # Tests whether the current vertex is in the list of explored vertices\n",
        "        if current_vertex not in explored_vertices :\n",
        "            # Mark the current_vertex as explored\n",
        "            explored_vertices[current_vertex] = distance_to_current_vertex \n",
        "       \n",
        "            # Update the routing table accordingly\n",
        "            routing_table[current_vertex] = parent \n",
        "       \n",
        "            # Examine neighbors of the current vertex\n",
        "            for neighbor in list(graph[(current_vertex)].keys()): \n",
        "              # We push all unexplored neighbors to the queue\n",
        "                if neighbor not in explored_vertices :              \n",
        "                    distance_to_neighbor = distance_to_current_vertex + graph[current_vertex][neighbor]\n",
        "                    push_to_structure(queuing_structure, (distance_to_neighbor, neighbor, current_vertex))\n",
        "\n",
        "              \n",
        "    return routing_table,explored_vertices\n",
        "\n",
        "    "
      ],
      "execution_count": null,
      "outputs": []
    },
    {
      "cell_type": "code",
      "metadata": {
        "id": "2qsy-2kscEtp"
      },
      "source": [
        "def find_route (routing_table, source_location, target_location) :\n",
        "  a=target_location\n",
        "  r=[a]\n",
        "  while a!=source_location:\n",
        "    #Find parent of current vertex\n",
        "    r.append(routing_table[a])\n",
        "    a=routing_table[a]\n",
        "  return r\n"
      ],
      "execution_count": null,
      "outputs": []
    },
    {
      "cell_type": "code",
      "metadata": {
        "id": "lPAMAzSGcHVh"
      },
      "source": [
        "def move_from_locations (locations) : \n",
        "    #Convert destination into a move\n",
        "    M=[]\n",
        "    for i in range(len(locations)-1):\n",
        "        difference = (locations[i][0] - locations[i+1][0], locations[i][1] - locations[i+1][1])  \n",
        "        if difference == (0, -1) :\n",
        "          M.append(MOVE_DOWN)\n",
        "        elif difference == (0, 1) :\n",
        "          M.append(MOVE_UP)\n",
        "        elif difference == (1, 0) :\n",
        "          M.append(MOVE_RIGHT)\n",
        "        elif difference == (-1, 0) :\n",
        "          M.append(MOVE_LEFT)\n",
        "        else :\n",
        "          raise Exception(\"Impossible move\")\n",
        "         \n",
        "    return M\n",
        "\n",
        "def build_meta_graph (maze_map, locations) :\n",
        "    # Return the meta-graph and all necessary routing tables\n",
        "    meta_graph={l : { } for l in locations}\n",
        "    table={}\n",
        "    for i in range(len(locations)):\n",
        "      routing_table,explored_vertices=traversal(locations[i],maze_map)\n",
        "      table[locations[i]]=routing_table\n",
        "      for k in range(0,len(locations)):\n",
        "        if k!=i:\n",
        "            meta_graph[locations[i]][locations[k]]=explored_vertices[locations[k]]\n",
        "    return meta_graph,table\n",
        "\n",
        "def tsp (graph, initial_vertex) :\n",
        "    # Recursive implementation of the tree exploration\n",
        "        \n",
        "    def _tsp (current_vertex, current_visited_vertices, current_route, current_length, current_best_route, current_best_length) :  \n",
        "        #Backtracking: verify if the current_length is better than the best length\n",
        "        if current_length >= current_best_length:\n",
        "          return(current_best_route,current_best_length)\n",
        "        # Stopping condition: the branch contains all vertices\n",
        "        if len(current_visited_vertices) == len(graph) :\n",
        "            if current_length >= current_best_length :\n",
        "                return current_best_route, current_best_length\n",
        "            else :\n",
        "                return current_route, current_length\n",
        "        \n",
        "        # Go down the branch for each possible neighbor not already part of the branch\n",
        "        for vertex in graph[current_vertex] :\n",
        "            if vertex not in current_visited_vertices :\n",
        "                current_best_route, current_best_length = _tsp(vertex, current_visited_vertices + [vertex], current_route + [vertex], current_length + graph[current_vertex][vertex], current_best_route, current_best_length)\n",
        "\n",
        "        # Propagate the current best\n",
        "        return current_best_route, current_best_length\n",
        "    \n",
        "    # Initial call\n",
        "    return _tsp(initial_vertex, [initial_vertex], [initial_vertex], 0, None, float(\"inf\"))\n",
        "\n",
        "def meta_graph_route_to_route (meta_graph_route,routing_tables) :\n",
        "    # Return the sequence of locations in the maze to perform a route in the meta-graph\n",
        "      Move=[]\n",
        "      loc=[]\n",
        "      #for each cheese, we determine the route\n",
        "      for i in range (len(meta_graph_route[0])-1):\n",
        "        r=routing_tables[meta_graph_route[0][i]]\n",
        "        c=find_route (r, meta_graph_route[0][i], meta_graph_route[0][i+1])\n",
        "        c.pop()\n",
        "        loc=c+loc\n",
        "      loc=loc+[meta_graph_route[0][0]]\n",
        "      #we transform the list of locations into movements\n",
        "      move=move_from_locations(loc)\n",
        "      return(move)   \n",
        "\n",
        "def give_score (graph, current_vertex, neighbors) :\n",
        "  # Associate a score (length of path) to each given neighbor\n",
        "  score={l : { } for l in neighbors}\n",
        "  for i in range (len(neighbors)) :\n",
        "    score[i]=graph[current_vertex][]\n",
        "\n",
        "\n",
        "\n"
      ],
      "execution_count": null,
      "outputs": []
    },
    {
      "cell_type": "markdown",
      "metadata": {
        "id": "EjL8BEixcF3j"
      },
      "source": [
        "<h1><b><center>PyRat functions</center></b></h1>"
      ]
    },
    {
      "cell_type": "markdown",
      "metadata": {
        "id": "T1L9f0UAcN0p"
      },
      "source": [
        "The `preprocessing` function is called at the very start of a game. It is \n",
        "\n",
        "---\n",
        "\n",
        "attributed a longer time compared to `turn`, which allows you to perform \n",
        "\n",
        "---\n",
        "\n",
        "intensive computations. If you store the results of these computations into **global** variables, you will be able to reuse them in the `turn` function.\n",
        "\n",
        "*Input:*\n",
        "*   `maze_map` -- **dict(pair(int, int), dict(pair(int, int), int))** -- The map of the maze where the game takes place. This structure associates each cell with the dictionry of its neighbors. In that dictionary of neighbors, keys are cell coordinates, and associated values the number of moves required to reach that neighbor. As an example, `list(maze_map[(0, 0)].keys())` returns the list of accessible cells from `(0, 0)`. Then, if for example `(0, 1)` belongs to that list, one can access the number of moves to go from `(0, 0)` to `(0, 1)` by the code `maze_map[(0, 0)][0, 1)]`.\n",
        "*   `maze_width` -- **int** -- The width of the maze, in number of cells.\n",
        "*   `maze_height` -- **int** -- The height of the maze, in number of cells.\n",
        "*   `player_location` -- **pair(int, int)** -- The initial location of your character in the maze.\n",
        "*   `opponent_location` -- **pair(int,int)** -- The initial location of your opponent's character in the maze.\n",
        "*   `pieces_of_cheese` -- **list(pair(int, int))** -- The initial location of all pieces of cheese in the maze.\n",
        "*   `time_allowed` -- **float** -- The time you can take for preprocessing before the game starts checking for moves.\n",
        "\n",
        "*Output:*\n",
        "*   This function does not output anything."
      ]
    },
    {
      "cell_type": "code",
      "metadata": {
        "id": "vFa29qLAcOUb"
      },
      "source": [
        "def preprocessing (maze_map, maze_width, maze_height, player_location, opponent_location, pieces_of_cheese, time_allowed) :\n",
        "    5\n",
        "    # Example prints that appear in the shell only at the beginning of the game\n",
        "    # Remove them when you write your own program\n",
        "    print(\"maze_map\", type(maze_map), maze_map)\n",
        "    print(\"maze_width\", type(maze_width), maze_width)\n",
        "    print(\"maze_height\", type(maze_height), maze_height)\n",
        "    print(\"player_location\", type(player_location), player_location)\n",
        "    print(\"opponent_location\", type(opponent_location), opponent_location)\n",
        "    print(\"pieces_of_cheese\", type(pieces_of_cheese), pieces_of_cheese)\n",
        "    print(\"time_allowed\", type(time_allowed), time_allowed)\n",
        "    loc=[player_location]+pieces_of_cheese\n",
        "    meta_graph=build_meta_graph(maze_map,loc)\n",
        "    meta_route=tsp(meta_graph[0],player_location)\n",
        "    global movement\n",
        "    movement=meta_graph_route_to_route(meta_route,meta_graph[1])\n",
        "    "
      ],
      "execution_count": null,
      "outputs": []
    },
    {
      "cell_type": "markdown",
      "metadata": {
        "id": "QRi94kuZaVcx"
      },
      "source": [
        "The `turn` function is called each time the game is waiting\n",
        "for the player to make a decision (*i.e.*, to return a move among those defined above).\n",
        "\n",
        "*Input:*\n",
        "*   `maze_map` -- **dict(pair(int, int), dict(pair(int, int), int))** -- The map of the maze. It is the same as in the `preprocessing` function, just given here again for convenience.\n",
        "*   `maze_width` -- **int** -- The width of the maze, in number of cells.\n",
        "*   `maze_height` -- **int** -- The height of the maze, in number of cells.\n",
        "*   `player_location` -- **pair(int, int)** -- The current location of your character in the maze.\n",
        "*   `opponent_location` -- **pair(int,int)** -- The current location of your opponent's character in the maze.\n",
        "*   `player_score` -- **float** -- Your current score.\n",
        "*   `opponent_score` -- **float** -- The opponent's current score.\n",
        "*   `pieces_of_cheese` -- **list(pair(int, int))** -- The location of remaining pieces of cheese in the maze.\n",
        "*   `time_allowed` -- **float** -- The time you can take to return a move to apply before another time starts automatically.\n",
        "\n",
        "*Output:*\n",
        "*   A chosen move among `MOVE_UP`, `MOVE_DOWN`, `MOVE_LEFT` or `MOVE_RIGHT`."
      ]
    },
    {
      "cell_type": "code",
      "metadata": {
        "id": "qjDcXkelaG05"
      },
      "source": [
        "def turn (maze_map, maze_width, maze_height, player_location, opponent_location, player_score, opponent_score, pieces_of_cheese, time_allowed) :\n",
        "    return movement.pop()"
      ],
      "execution_count": null,
      "outputs": []
    },
    {
      "cell_type": "code",
      "metadata": {
        "id": "aMlY4EftBeO3"
      },
      "source": [
        "\n",
        "    "
      ],
      "execution_count": null,
      "outputs": []
    }
  ]
}